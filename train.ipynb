{
 "cells": [
  {
   "cell_type": "code",
   "execution_count": 1,
   "metadata": {},
   "outputs": [],
   "source": [
    "import os\n",
    "\n",
    "import numpy as np\n",
    "\n",
    "import cv2\n",
    "from PIL import Image\n",
    "recognizer=cv2.face.LBPHFaceRecognizer_create()\n",
    "\n",
    "def assure_path_exists(path):\n",
    "    dir = os.path.dirname(path)\n",
    "    if not os.path.exists(dir):\n",
    "        os.makedirs(dir)\n",
    "path=\"/home/piyush/2nd face/facedata\""
   ]
  },
  {
   "cell_type": "code",
   "execution_count": 2,
   "metadata": {},
   "outputs": [],
   "source": [
    "def getImageswithID(path):\n",
    "    imagePaths=[os.path.join(path,f) for f in os.listdir(path)]\n",
    "    faces=[]\n",
    "    IDs=[]\n",
    "    for imagePath in imagePaths:\n",
    "        faceImg=Image.open(imagePath).convert('L')\n",
    "        faceNP=np.array(faceImg,'uint8')\n",
    "        ID=int(os.path.split(imagePath)[-1].split(\".\")[1])\n",
    "        faces.append(faceNP)\n",
    "        IDs.append(ID)\n",
    "        cv2.imshow(\"Adding faces for traning\",faceNP)\n",
    "        cv2.waitKey(10)\n",
    "    return np.array(IDs),faces\n",
    "Ids,faces=getImageswithID(path)\n",
    "recognizer.train(faces,np.array(Ids))\n",
    "assure_path_exists('train/')\n",
    "recognizer.save('train/trainer.yml')\n",
    "cv2.destroyAllWindows()"
   ]
  },
  {
   "cell_type": "code",
   "execution_count": null,
   "metadata": {},
   "outputs": [],
   "source": []
  }
 ],
 "metadata": {
  "kernelspec": {
   "display_name": "Python 3",
   "language": "python",
   "name": "python3"
  },
  "language_info": {
   "codemirror_mode": {
    "name": "ipython",
    "version": 3
   },
   "file_extension": ".py",
   "mimetype": "text/x-python",
   "name": "python",
   "nbconvert_exporter": "python",
   "pygments_lexer": "ipython3",
   "version": "3.6.4"
  }
 },
 "nbformat": 4,
 "nbformat_minor": 2
}
