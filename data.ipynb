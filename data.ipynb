{
 "cells": [
  {
   "cell_type": "code",
   "execution_count": 6,
   "metadata": {},
   "outputs": [
    {
     "name": "stdout",
     "output_type": "stream",
     "text": [
      "enter user id3\n"
     ]
    }
   ],
   "source": [
    "import numpy as np\n",
    "import cv2\n",
    "faceDetect = cv2.CascadeClassifier('haarcascade_frontalface_alt.xml')\n",
    "cap = cv2.VideoCapture(0)\n",
    "id=input('enter user id')\n",
    "sampleNumber=0\n",
    "while (True):\n",
    "    ret,img=cap.read()\n",
    "    gray=cv2.cvtColor(img,cv2.COLOR_BGR2GRAY)\n",
    "    faces=faceDetect.detectMultiScale(gray,1.1,5)\n",
    "    for (x,y,w,h) in faces:\n",
    "        sampleNumber=sampleNumber+1\n",
    "        cv2.imwrite(\"/home/piyush/2nd face/User.\"+str(id)+\".\"+str(sampleNumber)+\".jpg\",gray[y:y+h,x:x+w])\n",
    "        \n",
    "        cv2.rectangle(img,(x,y),(x+w,y+h),(0,0,255),2)\n",
    "        cv2.waitKey(100)\n",
    "    cv2.imshow('Face',img)\n",
    "    cv2.waitKey(1)\n",
    "    if (sampleNumber>19):\n",
    "        break\n",
    "cap.release()\n",
    "cv2.destroyAllWindows()\n"
   ]
  },
  {
   "cell_type": "code",
   "execution_count": null,
   "metadata": {},
   "outputs": [],
   "source": []
  },
  {
   "cell_type": "code",
   "execution_count": null,
   "metadata": {},
   "outputs": [],
   "source": []
  },
  {
   "cell_type": "code",
   "execution_count": null,
   "metadata": {},
   "outputs": [],
   "source": []
  }
 ],
 "metadata": {
  "kernelspec": {
   "display_name": "Python 3",
   "language": "python",
   "name": "python3"
  },
  "language_info": {
   "codemirror_mode": {
    "name": "ipython",
    "version": 3
   },
   "file_extension": ".py",
   "mimetype": "text/x-python",
   "name": "python",
   "nbconvert_exporter": "python",
   "pygments_lexer": "ipython3",
   "version": "3.6.4"
  }
 },
 "nbformat": 4,
 "nbformat_minor": 2
}
